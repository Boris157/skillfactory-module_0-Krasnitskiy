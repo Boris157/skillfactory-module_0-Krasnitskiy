{
 "cells": [
  {
   "cell_type": "code",
   "execution_count": 3,
   "metadata": {},
   "outputs": [],
   "source": [
    "import random \n",
    "\n",
    "def igra_v_100 (number): \n",
    "   \n",
    "    Chislo_kotoroe_nuzhno_ugadat=random.randint(1,100)   # загадываем число  \n",
    "    x = 1                                                # устанавливаем нижний предел для отгадывания \n",
    "    y = 100                                              # устанавливаем верхний предел для отгадывания\n",
    "    Try = 49                                             # первая попытка\n",
    "    Tries_count = 1                                      # счетчик попыток\n",
    "    \n",
    "    while Try!=Chislo_kotoroe_nuzhno_ugadat:             # устанавливаем условие которое нужно выполнить. Т.е. нужно переменной Try попасть в нужное число     \n",
    "            \n",
    "        if Try > Chislo_kotoroe_nuzhno_ugadat:           # устанавливаем дополнительное условие. Т.е. если Try > нужного числа \n",
    "            Tries_count += 1                             # мы считаем +1 попытку\n",
    "            y = Try-1                                    # и уменьшаем проверяемый сектор. \n",
    "            Try=random.randint(x,y)                      # Т.е. теперь искать надо только от 1 до 48\n",
    "                \n",
    "                \n",
    "        elif Try < Chislo_kotoroe_nuzhno_ugadat:         # устанавливаем дополнительное условие. Т.е. если Try < нужного числа \n",
    "            Tries_count +=1                              # мы считаем +1 попытку\n",
    "            x = Try + 1                                  # и уменьшаем проверяемый сектор.\n",
    "            Try=random.randint(x,y)                      # Т.е. теперь искать надо только от 50 до 100\n",
    " \n",
    "    return (Tries_count)                                 # возвращает количество попыток\n",
    "\n",
    "\n",
    "\n"
   ]
  },
  {
   "cell_type": "code",
   "execution_count": 4,
   "metadata": {},
   "outputs": [],
   "source": [
    "import numpy as np\n",
    "def igra_v_100_1000_times (igra_v_100):\n",
    "    '''Запускаем игру 1000 раз, чтоб узнать как быстро игра угадывает число'''\n",
    "    count_ls = []\n",
    "    np.random.seed(1)  # фиксируем RANDOM SEED, чтобы ваш эксперимент был воспроизводим!\n",
    "    random_array = np.random.randint(100, size=(1000))\n",
    "    for number in random_array:\n",
    "        count_ls.append(igra_v_100 (number))\n",
    "    score = int(np.mean(count_ls))\n",
    "    print(f\"Эта чудесная программа угадывает число в среднем за {score} попыток\")\n",
    "    return(score) "
   ]
  },
  {
   "cell_type": "code",
   "execution_count": 5,
   "metadata": {},
   "outputs": [
    {
     "name": "stdout",
     "output_type": "stream",
     "text": [
      "Эта чудесная программа угадывает число в среднем за 7 попыток\n"
     ]
    },
    {
     "data": {
      "text/plain": [
       "7"
      ]
     },
     "execution_count": 5,
     "metadata": {},
     "output_type": "execute_result"
    }
   ],
   "source": [
    "igra_v_100_1000_times (igra_v_100)"
   ]
  },
  {
   "cell_type": "code",
   "execution_count": null,
   "metadata": {},
   "outputs": [],
   "source": []
  }
 ],
 "metadata": {
  "kernelspec": {
   "display_name": "Python 3",
   "language": "python",
   "name": "python3"
  },
  "language_info": {
   "codemirror_mode": {
    "name": "ipython",
    "version": 3
   },
   "file_extension": ".py",
   "mimetype": "text/x-python",
   "name": "python",
   "nbconvert_exporter": "python",
   "pygments_lexer": "ipython3",
   "version": "3.7.6"
  }
 },
 "nbformat": 4,
 "nbformat_minor": 4
}
